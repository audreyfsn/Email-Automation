{
 "cells": [
  {
   "cell_type": "code",
   "execution_count": 17,
   "id": "f13abeb9",
   "metadata": {},
   "outputs": [],
   "source": [
    "import pandas as pd\n",
    "import smtplib"
   ]
  },
  {
   "cell_type": "code",
   "execution_count": 18,
   "id": "030b0cf4",
   "metadata": {},
   "outputs": [],
   "source": [
    "my_name = \"Audrey Susai\"\n",
    "my_email = \"audreysusai@gmail.com\"\n",
    "my_password = \"xxxx\" #insert password here"
   ]
  },
  {
   "cell_type": "code",
   "execution_count": 19,
   "id": "8408078d",
   "metadata": {},
   "outputs": [
    {
     "data": {
      "text/plain": [
       "(235, b'2.7.0 Accepted')"
      ]
     },
     "execution_count": 19,
     "metadata": {},
     "output_type": "execute_result"
    }
   ],
   "source": [
    "server = smtplib.SMTP_SSL('smtp.gmail.com', 465)\n",
    "server.ehlo()\n",
    "server.login(my_email, my_password)"
   ]
  },
  {
   "cell_type": "code",
   "execution_count": 23,
   "id": "bdb62303",
   "metadata": {},
   "outputs": [
    {
     "data": {
      "text/html": [
       "<div>\n",
       "<style scoped>\n",
       "    .dataframe tbody tr th:only-of-type {\n",
       "        vertical-align: middle;\n",
       "    }\n",
       "\n",
       "    .dataframe tbody tr th {\n",
       "        vertical-align: top;\n",
       "    }\n",
       "\n",
       "    .dataframe thead th {\n",
       "        text-align: right;\n",
       "    }\n",
       "</style>\n",
       "<table border=\"1\" class=\"dataframe\">\n",
       "  <thead>\n",
       "    <tr style=\"text-align: right;\">\n",
       "      <th></th>\n",
       "      <th>Name</th>\n",
       "      <th>Email</th>\n",
       "      <th>Subject</th>\n",
       "      <th>Message</th>\n",
       "    </tr>\n",
       "  </thead>\n",
       "  <tbody>\n",
       "    <tr>\n",
       "      <th>0</th>\n",
       "      <td>Audrey Susai</td>\n",
       "      <td>audreysusai@gmail.com</td>\n",
       "      <td>Python Test Email</td>\n",
       "      <td>Hi there, This is a test email.</td>\n",
       "    </tr>\n",
       "    <tr>\n",
       "      <th>1</th>\n",
       "      <td>Audrey Python</td>\n",
       "      <td>audreytesterpy@gmail.com</td>\n",
       "      <td>Python Test Email</td>\n",
       "      <td>Hi there, This is a test email.</td>\n",
       "    </tr>\n",
       "  </tbody>\n",
       "</table>\n",
       "</div>"
      ],
      "text/plain": [
       "            Name                     Email            Subject  \\\n",
       "0   Audrey Susai     audreysusai@gmail.com  Python Test Email   \n",
       "1  Audrey Python  audreytesterpy@gmail.com  Python Test Email   \n",
       "\n",
       "                            Message  \n",
       "0  Hi there, This is a test email.   \n",
       "1  Hi there, This is a test email.   "
      ]
     },
     "execution_count": 23,
     "metadata": {},
     "output_type": "execute_result"
    }
   ],
   "source": [
    "email_list = pd.read_excel(\"Email_List.xlsx\")\n",
    "email_list"
   ]
  },
  {
   "cell_type": "code",
   "execution_count": 24,
   "id": "0395aa90",
   "metadata": {},
   "outputs": [],
   "source": [
    "get_names = email_list['Name']\n",
    "get_emails = email_list['Email']\n",
    "get_subjects = email_list['Subject']\n",
    "get_messages = email_list['Message']"
   ]
  },
  {
   "cell_type": "code",
   "execution_count": 25,
   "id": "9a0403d9",
   "metadata": {},
   "outputs": [
    {
     "name": "stdout",
     "output_type": "stream",
     "text": [
      "Email to audreysusai@gmail.com successfully sent!\n",
      "\n",
      "\n",
      "Email to audreytesterpy@gmail.com successfully sent!\n",
      "\n",
      "\n"
     ]
    }
   ],
   "source": [
    "for idx in range(len(get_emails)):\n",
    "    name = get_names[idx]\n",
    "    email = get_emails[idx]\n",
    "    subject = get_subjects[idx]\n",
    "    message = get_messages[idx]\n",
    "    \n",
    "    full_email = (\"From: {0} <{1}>\\n\"\n",
    "                  \"To: {2} <{3}>\\n\"\n",
    "                  \"Subject: {4}\\n\\n\"\n",
    "                  \"{5}\"\n",
    "                  .format(my_name, my_email, name, email, subject, message))\n",
    "    try:\n",
    "        server.sendmail(my_email, [email], full_email)\n",
    "        print('Email to {} successfully sent!\\n\\n'.format(email))\n",
    "        \n",
    "    except Exception as e:\n",
    "        print('Email to {} could not be sent :( because {}\\n\\n'.format(email, str(e)))"
   ]
  },
  {
   "cell_type": "code",
   "execution_count": null,
   "id": "5a263cbf",
   "metadata": {},
   "outputs": [],
   "source": []
  }
 ],
 "metadata": {
  "kernelspec": {
   "display_name": "Python 3 (ipykernel)",
   "language": "python",
   "name": "python3"
  },
  "language_info": {
   "codemirror_mode": {
    "name": "ipython",
    "version": 3
   },
   "file_extension": ".py",
   "mimetype": "text/x-python",
   "name": "python",
   "nbconvert_exporter": "python",
   "pygments_lexer": "ipython3",
   "version": "3.9.7"
  }
 },
 "nbformat": 4,
 "nbformat_minor": 5
}
